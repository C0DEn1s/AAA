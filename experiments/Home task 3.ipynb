{
 "cells": [
  {
   "cell_type": "code",
   "execution_count": 1,
   "metadata": {},
   "outputs": [],
   "source": [
    "import pandas as pd\n",
    "import matplotlib.pyplot as plt\n",
    "import numpy as np\n",
    "import seaborn as sns\n",
    "import datetime\n",
    "import random\n",
    "from statsmodels.stats.power import tt_ind_solve_power\n",
    "\n",
    "\n",
    "def date_converter(x):\n",
    "    return datetime.datetime.strptime(x, '%Y-%m-%d')"
   ]
  },
  {
   "cell_type": "markdown",
   "metadata": {},
   "source": [
    "### Задание 3\n",
    "**Срок сдачи: 07 апреля 18:00**\n",
    "\n",
    "В этом задание вы будете работать с выручкой - метрикой с достаточно высокой дисперсией и соответсвенно низкой чувствительностью к изменениям.\n",
    "\n",
    "Вам предстоит разработать подход по повышению чувствительности этой метрики.\n",
    "От успеха данной инициативы зависит то, как быстро мы сможем проверять продуктовые гипотезы."
   ]
  },
  {
   "cell_type": "markdown",
   "metadata": {},
   "source": [
    "#### Для планирования эксперимента изучите данные и метрики 2 балла:\n",
    "\n",
    "- Загрузите файл и изучите данные;\n",
    "- Изучите основные статистики метрики: среднее, стандартное отклонение;\n",
    "- Изучите то, как эти статистики изменяются внутри срезов: user_segment, region, category\n",
    "\n",
    "#### Предскажите минимально детектируемый эффект (MDE) 2 балла:\n",
    "\n",
    "- Для размеров тестовых групп 10,25,50% и длительностей 30, 60, 90 дней предскажите минимально детектируемый эффект;\n",
    "\n",
    "\n",
    "#### CUPED 6 баллов\n",
    "Разработайте подход по снижению дисперсии на основе методики CUPED:\n",
    "\n",
    "- Рассчитайте CUPED метрику на основе данных за периода в 30 дней перед предполагаемым периодом сбора основной выборки и опишите как изменился MDE для выборок 50/50%, собранных за 30 дней (2 балла). \n",
    "- Проверьте насколько данный подход подвержен сезональности. Как меняется MDE, если применять данный подход в разные периоды (2 балла). \n",
    "- Оптимизируйте подход, варьируя количество дней до теста, которые вы будете для расчёта CUPED метрики. Какое максимальное снижение MDE вы смогли достичь (2 балла).\n",
    "\n",
    "\n",
    "\n",
    "#### * Стратификация 4 балла (задание для получения дополнительных баллов)\n",
    "Разработайте подход по снижению дисперсии на основе методики стратификации выборок:\n",
    "\n",
    "- Стратифицируйте выборки внутри срезов user_segment, region, category\n",
    "- Рассчитайте стратифицированные среднее,стандартное отклонение для этих выборок и MDE для теста 50/50% длительностью 30 дней.\n",
    "- В каких срезах достигается наибольшее снижение MDE?\n",
    "\n"
   ]
  },
  {
   "cell_type": "markdown",
   "metadata": {},
   "source": [
    "## Изучение данных"
   ]
  },
  {
   "cell_type": "markdown",
   "metadata": {},
   "source": [
    "#### Описание данныx\n",
    "\n",
    "event_date - дата \n",
    "\n",
    "user_id - идентификатор пользователя\n",
    "\n",
    "user_segment - сегмент пользователей\n",
    "\n",
    "region - регион\n",
    "\n",
    "category - категория авито\n",
    "\n",
    "revenue_amount - сумма покупок\n"
   ]
  },
  {
   "cell_type": "code",
   "execution_count": 2,
   "metadata": {},
   "outputs": [],
   "source": [
    "df = pd.read_csv('user_amount_var_reduction.csv')\n",
    "df['event_date'] = df.event_date.apply(date_converter)"
   ]
  },
  {
   "cell_type": "code",
   "execution_count": 3,
   "metadata": {
    "scrolled": false
   },
   "outputs": [
    {
     "data": {
      "text/html": [
       "<div>\n",
       "<style scoped>\n",
       "    .dataframe tbody tr th:only-of-type {\n",
       "        vertical-align: middle;\n",
       "    }\n",
       "\n",
       "    .dataframe tbody tr th {\n",
       "        vertical-align: top;\n",
       "    }\n",
       "\n",
       "    .dataframe thead th {\n",
       "        text-align: right;\n",
       "    }\n",
       "</style>\n",
       "<table border=\"1\" class=\"dataframe\">\n",
       "  <thead>\n",
       "    <tr style=\"text-align: right;\">\n",
       "      <th></th>\n",
       "      <th>event_date</th>\n",
       "      <th>user_id</th>\n",
       "      <th>user_segment</th>\n",
       "      <th>category</th>\n",
       "      <th>region</th>\n",
       "      <th>revenue_amount</th>\n",
       "    </tr>\n",
       "  </thead>\n",
       "  <tbody>\n",
       "    <tr>\n",
       "      <th>0</th>\n",
       "      <td>2019-06-18</td>\n",
       "      <td>4129257975403696</td>\n",
       "      <td>4626944681007198896</td>\n",
       "      <td>7204754148424990691</td>\n",
       "      <td>2201388710798473628</td>\n",
       "      <td>139</td>\n",
       "    </tr>\n",
       "    <tr>\n",
       "      <th>1</th>\n",
       "      <td>2019-06-18</td>\n",
       "      <td>7225254357470025</td>\n",
       "      <td>4626944681007198896</td>\n",
       "      <td>57514010642945023</td>\n",
       "      <td>3048517866726460689</td>\n",
       "      <td>193</td>\n",
       "    </tr>\n",
       "    <tr>\n",
       "      <th>2</th>\n",
       "      <td>2019-06-18</td>\n",
       "      <td>8912846500600569</td>\n",
       "      <td>4626944681007198896</td>\n",
       "      <td>5983323600580891431</td>\n",
       "      <td>3048517866726460689</td>\n",
       "      <td>160</td>\n",
       "    </tr>\n",
       "    <tr>\n",
       "      <th>3</th>\n",
       "      <td>2019-06-18</td>\n",
       "      <td>20910801279823046</td>\n",
       "      <td>4626944681007198896</td>\n",
       "      <td>6847326422676498281</td>\n",
       "      <td>7762196236856042106</td>\n",
       "      <td>209</td>\n",
       "    </tr>\n",
       "    <tr>\n",
       "      <th>4</th>\n",
       "      <td>2019-06-18</td>\n",
       "      <td>34873300821657220</td>\n",
       "      <td>2376074197230840906</td>\n",
       "      <td>3187769798308634693</td>\n",
       "      <td>3855810523611026650</td>\n",
       "      <td>160</td>\n",
       "    </tr>\n",
       "    <tr>\n",
       "      <th>...</th>\n",
       "      <td>...</td>\n",
       "      <td>...</td>\n",
       "      <td>...</td>\n",
       "      <td>...</td>\n",
       "      <td>...</td>\n",
       "      <td>...</td>\n",
       "    </tr>\n",
       "    <tr>\n",
       "      <th>8625837</th>\n",
       "      <td>2019-12-08</td>\n",
       "      <td>9170823997728769058</td>\n",
       "      <td>2376074197230840906</td>\n",
       "      <td>4658595883120885993</td>\n",
       "      <td>3855810523611026650</td>\n",
       "      <td>133</td>\n",
       "    </tr>\n",
       "    <tr>\n",
       "      <th>8625838</th>\n",
       "      <td>2019-12-08</td>\n",
       "      <td>9178869387857307556</td>\n",
       "      <td>4626944681007198896</td>\n",
       "      <td>1472231361867825698</td>\n",
       "      <td>3048517866726460689</td>\n",
       "      <td>63</td>\n",
       "    </tr>\n",
       "    <tr>\n",
       "      <th>8625839</th>\n",
       "      <td>2019-12-08</td>\n",
       "      <td>9186690404771258365</td>\n",
       "      <td>2376074197230840906</td>\n",
       "      <td>4546178272531746227</td>\n",
       "      <td>8867014108346120905</td>\n",
       "      <td>168</td>\n",
       "    </tr>\n",
       "    <tr>\n",
       "      <th>8625840</th>\n",
       "      <td>2019-12-08</td>\n",
       "      <td>9195678548159495844</td>\n",
       "      <td>2376074197230840906</td>\n",
       "      <td>5983323600580891431</td>\n",
       "      <td>1187552825302355021</td>\n",
       "      <td>118</td>\n",
       "    </tr>\n",
       "    <tr>\n",
       "      <th>8625841</th>\n",
       "      <td>2019-12-08</td>\n",
       "      <td>9203791365722213789</td>\n",
       "      <td>4626944681007198896</td>\n",
       "      <td>6864443610550051939</td>\n",
       "      <td>3048517866726460689</td>\n",
       "      <td>39</td>\n",
       "    </tr>\n",
       "  </tbody>\n",
       "</table>\n",
       "<p>8625842 rows × 6 columns</p>\n",
       "</div>"
      ],
      "text/plain": [
       "        event_date              user_id         user_segment  \\\n",
       "0       2019-06-18     4129257975403696  4626944681007198896   \n",
       "1       2019-06-18     7225254357470025  4626944681007198896   \n",
       "2       2019-06-18     8912846500600569  4626944681007198896   \n",
       "3       2019-06-18    20910801279823046  4626944681007198896   \n",
       "4       2019-06-18    34873300821657220  2376074197230840906   \n",
       "...            ...                  ...                  ...   \n",
       "8625837 2019-12-08  9170823997728769058  2376074197230840906   \n",
       "8625838 2019-12-08  9178869387857307556  4626944681007198896   \n",
       "8625839 2019-12-08  9186690404771258365  2376074197230840906   \n",
       "8625840 2019-12-08  9195678548159495844  2376074197230840906   \n",
       "8625841 2019-12-08  9203791365722213789  4626944681007198896   \n",
       "\n",
       "                    category               region  revenue_amount  \n",
       "0        7204754148424990691  2201388710798473628             139  \n",
       "1          57514010642945023  3048517866726460689             193  \n",
       "2        5983323600580891431  3048517866726460689             160  \n",
       "3        6847326422676498281  7762196236856042106             209  \n",
       "4        3187769798308634693  3855810523611026650             160  \n",
       "...                      ...                  ...             ...  \n",
       "8625837  4658595883120885993  3855810523611026650             133  \n",
       "8625838  1472231361867825698  3048517866726460689              63  \n",
       "8625839  4546178272531746227  8867014108346120905             168  \n",
       "8625840  5983323600580891431  1187552825302355021             118  \n",
       "8625841  6864443610550051939  3048517866726460689              39  \n",
       "\n",
       "[8625842 rows x 6 columns]"
      ]
     },
     "execution_count": 3,
     "metadata": {},
     "output_type": "execute_result"
    }
   ],
   "source": [
    "df"
   ]
  },
  {
   "cell_type": "code",
   "execution_count": 4,
   "metadata": {},
   "outputs": [
    {
     "data": {
      "text/plain": [
       "count    8.625842e+06\n",
       "mean     4.009047e+02\n",
       "std      9.602217e+02\n",
       "min      1.000000e+00\n",
       "25%      8.800000e+01\n",
       "50%      1.670000e+02\n",
       "75%      4.050000e+02\n",
       "max      2.881230e+05\n",
       "Name: revenue_amount, dtype: float64"
      ]
     },
     "execution_count": 4,
     "metadata": {},
     "output_type": "execute_result"
    }
   ],
   "source": [
    "df.revenue_amount.describe()"
   ]
  },
  {
   "cell_type": "code",
   "execution_count": 5,
   "metadata": {},
   "outputs": [
    {
     "data": {
      "text/plain": [
       "400.9046571917269"
      ]
     },
     "execution_count": 5,
     "metadata": {},
     "output_type": "execute_result"
    }
   ],
   "source": [
    "df.revenue_amount.mean()"
   ]
  },
  {
   "cell_type": "code",
   "execution_count": 6,
   "metadata": {},
   "outputs": [
    {
     "data": {
      "text/plain": [
       "960.2217414899778"
      ]
     },
     "execution_count": 6,
     "metadata": {},
     "output_type": "execute_result"
    }
   ],
   "source": [
    "df.revenue_amount.std()"
   ]
  },
  {
   "cell_type": "code",
   "execution_count": 7,
   "metadata": {},
   "outputs": [
    {
     "data": {
      "text/plain": [
       "Text(0.5, 1.0, '99% percentile of revenue amount')"
      ]
     },
     "execution_count": 7,
     "metadata": {},
     "output_type": "execute_result"
    },
    {
     "data": {
      "image/png": "[encoded data removed]",
      "text/plain": [
       "<Figure size 720x432 with 1 Axes>"
      ]
     },
     "metadata": {
      "needs_background": "light"
     },
     "output_type": "display_data"
    }
   ],
   "source": [
    "mask1 = df.revenue_amount < np.quantile(df.revenue_amount, 0.99)\n",
    "df[mask1].revenue_amount.hist(bins=10, figsize=(10, 6)).set_title('99% percentile of revenue amount')"
   ]
  },
  {
   "cell_type": "code",
   "execution_count": 8,
   "metadata": {},
   "outputs": [
    {
     "data": {
      "text/plain": [
       "86271"
      ]
     },
     "execution_count": 8,
     "metadata": {},
     "output_type": "execute_result"
    }
   ],
   "source": [
    "mask2 = df.revenue_amount >= np.quantile(df.revenue_amount, 0.99)\n",
    "df[mask2].revenue_amount.count()"
   ]
  },
  {
   "cell_type": "code",
   "execution_count": 9,
   "metadata": {},
   "outputs": [
    {
     "data": {
      "text/plain": [
       "12094"
      ]
     },
     "execution_count": 9,
     "metadata": {},
     "output_type": "execute_result"
    }
   ],
   "source": [
    "len(df[mask2].revenue_amount.unique())"
   ]
  },
  {
   "cell_type": "code",
   "execution_count": 10,
   "metadata": {},
   "outputs": [
    {
     "data": {
      "text/plain": [
       "<AxesSubplot:>"
      ]
     },
     "execution_count": 10,
     "metadata": {},
     "output_type": "execute_result"
    },
    {
     "data": {
      "image/png": "[encoded data removed]",
      "text/plain": [
       "<Figure size 720x432 with 1 Axes>"
      ]
     },
     "metadata": {
      "needs_background": "light"
     },
     "output_type": "display_data"
    }
   ],
   "source": [
    "df.boxplot('revenue_amount', figsize=(10, 6))"
   ]
  },
  {
   "cell_type": "markdown",
   "metadata": {},
   "source": [
    "Посмотрим как выглядит среднее и стандартное отклонение в разных сегментах пользователей"
   ]
  },
  {
   "cell_type": "code",
   "execution_count": 11,
   "metadata": {},
   "outputs": [],
   "source": [
    "user_segments = df.groupby('user_segment')"
   ]
  },
  {
   "cell_type": "code",
   "execution_count": 12,
   "metadata": {},
   "outputs": [
    {
     "data": {
      "text/plain": [
       "user_segment\n",
       "853431062533847667     1094.330305\n",
       "2376074197230840906     401.615956\n",
       "4626944681007198896     207.760172\n",
       "Name: revenue_amount, dtype: float64"
      ]
     },
     "execution_count": 12,
     "metadata": {},
     "output_type": "execute_result"
    }
   ],
   "source": [
    "user_segments.revenue_amount.mean()"
   ]
  },
  {
   "cell_type": "code",
   "execution_count": 13,
   "metadata": {},
   "outputs": [
    {
     "data": {
      "text/plain": [
       "user_segment\n",
       "853431062533847667     2392.330098\n",
       "2376074197230840906     571.446013\n",
       "4626944681007198896     285.545686\n",
       "Name: revenue_amount, dtype: float64"
      ]
     },
     "execution_count": 13,
     "metadata": {},
     "output_type": "execute_result"
    }
   ],
   "source": [
    "user_segments.revenue_amount.std()"
   ]
  },
  {
   "cell_type": "markdown",
   "metadata": {},
   "source": [
    "Видим, что один сегмент значительно больше двух других, причём имеет высокое стандартное отклонение.\n",
    "\n",
    "Теперь в зависимости от региона"
   ]
  },
  {
   "cell_type": "code",
   "execution_count": 14,
   "metadata": {},
   "outputs": [],
   "source": [
    "regions = df.groupby('region')"
   ]
  },
  {
   "cell_type": "code",
   "execution_count": 15,
   "metadata": {},
   "outputs": [
    {
     "data": {
      "text/plain": [
       "84"
      ]
     },
     "execution_count": 15,
     "metadata": {},
     "output_type": "execute_result"
    }
   ],
   "source": [
    "len(regions)"
   ]
  },
  {
   "cell_type": "code",
   "execution_count": 16,
   "metadata": {},
   "outputs": [
    {
     "data": {
      "text/plain": [
       "region\n",
       "68475388295793322      289.345317\n",
       "181387893390186210     299.629748\n",
       "308194675497345788     252.626919\n",
       "385667469633138042     272.589534\n",
       "405364780634206711     205.209615\n",
       "                          ...    \n",
       "9030439280442565223    241.213507\n",
       "9032475813655386611    341.125571\n",
       "9159753098538066161    324.889870\n",
       "9173615405044165275    189.498536\n",
       "9198008870977546443    369.359878\n",
       "Name: revenue_amount, Length: 84, dtype: float64"
      ]
     },
     "execution_count": 16,
     "metadata": {},
     "output_type": "execute_result"
    }
   ],
   "source": [
    "reg_means = regions.revenue_amount.mean()\n",
    "reg_means"
   ]
  },
  {
   "cell_type": "code",
   "execution_count": 17,
   "metadata": {},
   "outputs": [
    {
     "data": {
      "text/plain": [
       "region\n",
       "68475388295793322      504.681673\n",
       "181387893390186210     461.930430\n",
       "308194675497345788     544.986118\n",
       "385667469633138042     507.917500\n",
       "405364780634206711     295.197711\n",
       "                          ...    \n",
       "9030439280442565223    374.722208\n",
       "9032475813655386611    583.562907\n",
       "9159753098538066161    721.907652\n",
       "9173615405044165275    230.607352\n",
       "9198008870977546443    613.172957\n",
       "Name: revenue_amount, Length: 84, dtype: float64"
      ]
     },
     "execution_count": 17,
     "metadata": {},
     "output_type": "execute_result"
    }
   ],
   "source": [
    "reg_std = regions.revenue_amount.std()\n",
    "reg_std"
   ]
  },
  {
   "cell_type": "markdown",
   "metadata": {},
   "source": [
    "Посмотрим на минимальное и максимальное значения у среднего"
   ]
  },
  {
   "cell_type": "code",
   "execution_count": 18,
   "metadata": {},
   "outputs": [
    {
     "data": {
      "text/plain": [
       "(182.15725288831837, 709.1307620881948)"
      ]
     },
     "execution_count": 18,
     "metadata": {},
     "output_type": "execute_result"
    }
   ],
   "source": [
    "reg_means.min(), reg_means.max()"
   ]
  },
  {
   "cell_type": "markdown",
   "metadata": {},
   "source": [
    "Регионов значительно больше, чем сегментов пользователей, поэтому рассмотрим значения на гистограмме"
   ]
  },
  {
   "cell_type": "code",
   "execution_count": 19,
   "metadata": {},
   "outputs": [
    {
     "data": {
      "image/png": "[encoded data removed]",
      "text/plain": [
       "<Figure size 720x432 with 1 Axes>"
      ]
     },
     "metadata": {
      "needs_background": "light"
     },
     "output_type": "display_data"
    }
   ],
   "source": [
    "fig = plt.subplots(figsize=(10, 6))\n",
    "plt.hist(reg_means, bins=30)\n",
    "plt.grid()"
   ]
  },
  {
   "cell_type": "code",
   "execution_count": 20,
   "metadata": {},
   "outputs": [
    {
     "data": {
      "text/plain": [
       "region\n",
       "690419174463540260     400.174691\n",
       "1283565572874511058    429.396718\n",
       "1481836092404435976    709.130762\n",
       "1611023233668261710    529.945146\n",
       "4459452014453832958    422.769579\n",
       "4848067518890897757    644.019141\n",
       "5780543780372929118    536.875280\n",
       "8867014108346120905    445.188098\n",
       "Name: revenue_amount, dtype: float64"
      ]
     },
     "execution_count": 20,
     "metadata": {},
     "output_type": "execute_result"
    }
   ],
   "source": [
    "reg_means[reg_means > 400]"
   ]
  },
  {
   "cell_type": "code",
   "execution_count": 21,
   "metadata": {},
   "outputs": [
    {
     "data": {
      "image/png": "[encoded data removed]",
      "text/plain": [
       "<Figure size 720x432 with 1 Axes>"
      ]
     },
     "metadata": {
      "needs_background": "light"
     },
     "output_type": "display_data"
    }
   ],
   "source": [
    "fig = plt.subplots(figsize=(10, 6))\n",
    "plt.hist(reg_std, bins=30)\n",
    "plt.grid()"
   ]
  },
  {
   "cell_type": "markdown",
   "metadata": {},
   "source": [
    "У регионов основная масса по среднему распределена в промежутке от 180 до 400, и имеются 8 регионов, которые выше этих значений вплоть до 710.\n",
    "\n",
    "Также рассмотрим разбивку по категориям"
   ]
  },
  {
   "cell_type": "code",
   "execution_count": 22,
   "metadata": {},
   "outputs": [],
   "source": [
    "categories = df.groupby('category')"
   ]
  },
  {
   "cell_type": "code",
   "execution_count": 23,
   "metadata": {},
   "outputs": [
    {
     "data": {
      "text/plain": [
       "33"
      ]
     },
     "execution_count": 23,
     "metadata": {},
     "output_type": "execute_result"
    }
   ],
   "source": [
    "len(categories)"
   ]
  },
  {
   "cell_type": "markdown",
   "metadata": {},
   "source": [
    "Посмотрим на минимальное и максимальное значения у среднего"
   ]
  },
  {
   "cell_type": "code",
   "execution_count": 24,
   "metadata": {},
   "outputs": [],
   "source": [
    "cat_means = categories.revenue_amount.mean()\n",
    "cat_std = categories.revenue_amount.std()"
   ]
  },
  {
   "cell_type": "code",
   "execution_count": 25,
   "metadata": {},
   "outputs": [
    {
     "data": {
      "text/plain": [
       "(136.59502923724799, 1955.9794312426957)"
      ]
     },
     "execution_count": 25,
     "metadata": {},
     "output_type": "execute_result"
    }
   ],
   "source": [
    "cat_means.min(), cat_means.max()"
   ]
  },
  {
   "cell_type": "markdown",
   "metadata": {},
   "source": [
    "Категории тоже посмотрим на графиках"
   ]
  },
  {
   "cell_type": "code",
   "execution_count": 26,
   "metadata": {},
   "outputs": [
    {
     "data": {
      "image/png": "[encoded data removed]",
      "text/plain": [
       "<Figure size 720x432 with 1 Axes>"
      ]
     },
     "metadata": {
      "needs_background": "light"
     },
     "output_type": "display_data"
    }
   ],
   "source": [
    "fig = plt.subplots(figsize=(10, 6))\n",
    "plt.hist(cat_means, bins=30)\n",
    "plt.grid()"
   ]
  },
  {
   "cell_type": "code",
   "execution_count": 27,
   "metadata": {},
   "outputs": [
    {
     "data": {
      "text/plain": [
       "category\n",
       "264558924403680107      509.373364\n",
       "2343719193625129042     943.989905\n",
       "2923341857645916506     806.675364\n",
       "4546178272531746227     510.431362\n",
       "5858189596811644833     527.746677\n",
       "6742557862815872936     503.182713\n",
       "7164285449278522823    1955.979431\n",
       "7948270325129383019     792.677807\n",
       "Name: revenue_amount, dtype: float64"
      ]
     },
     "execution_count": 27,
     "metadata": {},
     "output_type": "execute_result"
    }
   ],
   "source": [
    "cat_means[cat_means > 500]"
   ]
  },
  {
   "cell_type": "code",
   "execution_count": 30,
   "metadata": {},
   "outputs": [
    {
     "data": {
      "image/png": "[encoded data removed]",
      "text/plain": [
       "<Figure size 720x432 with 1 Axes>"
      ]
     },
     "metadata": {
      "needs_background": "light"
     },
     "output_type": "display_data"
    }
   ],
   "source": [
    "fig = plt.subplots(figsize=(10, 6))\n",
    "plt.hist(cat_std, bins=30)\n",
    "plt.grid()"
   ]
  },
  {
   "cell_type": "markdown",
   "metadata": {},
   "source": [
    "У категорий основная масса по среднему распределена в промежутке от 130 до 530, и имеются 8 категорий, которые выше этих значений вплоть до 2000."
   ]
  },
  {
   "cell_type": "markdown",
   "metadata": {},
   "source": [
    "## MDE"
   ]
  },
  {
   "cell_type": "code",
   "execution_count": 28,
   "metadata": {},
   "outputs": [],
   "source": [
    "from statsmodels.stats.power import tt_ind_solve_power\n",
    "\n",
    "\n",
    "def choose_date(data, start_date, delta, share): \n",
    "    tmp = data[\n",
    "        (data.event_date >= start_date) &\n",
    "        (data.event_date <= start_date + datetime.timedelta(days=delta))\n",
    "    ]\n",
    "    tmp = tmp.groupby('user_id').sum().reset_index()\n",
    "    x = tmp[tmp.user_id % 100 <= 100*share].reset_index()\n",
    "    return x"
   ]
  },
  {
   "cell_type": "markdown",
   "metadata": {},
   "source": [
    "Для размеров тестовых групп 10%, 25%, 50% и длительностей 30, 60, 90 дней предскажем минимально детектируемый эффект"
   ]
  },
  {
   "cell_type": "code",
   "execution_count": 29,
   "metadata": {},
   "outputs": [
    {
     "data": {
      "text/plain": [
       "Timestamp('2019-06-18 00:00:00')"
      ]
     },
     "execution_count": 29,
     "metadata": {},
     "output_type": "execute_result"
    }
   ],
   "source": [
    "df.event_date.min()"
   ]
  },
  {
   "cell_type": "code",
   "execution_count": 30,
   "metadata": {},
   "outputs": [
    {
     "name": "stdout",
     "output_type": "stream",
     "text": [
      "При продолжительности эксперимента 30 дней и размере тестовых групп 10.0% MDE = 0.12787287287287286\n",
      "При продолжительности эксперимента 60 дней и размере тестовых групп 10.0% MDE = 0.12637437437437438\n",
      "При продолжительности эксперимента 90 дней и размере тестовых групп 10.0% MDE = 0.12287787787787785\n",
      "При продолжительности эксперимента 30 дней и размере тестовых групп 25.0% MDE = 0.09340740740740738\n",
      "При продолжительности эксперимента 60 дней и размере тестовых групп 25.0% MDE = 0.09041041041041037\n",
      "При продолжительности эксперимента 90 дней и размере тестовых групп 25.0% MDE = 0.08991091091091091\n",
      "При продолжительности эксперимента 30 дней и размере тестовых групп 50.0% MDE = 0.05894194194194191\n",
      "При продолжительности эксперимента 60 дней и размере тестовых групп 50.0% MDE = 0.05744344344344343\n",
      "При продолжительности эксперимента 90 дней и размере тестовых групп 50.0% MDE = 0.05744344344344343\n"
     ]
    }
   ],
   "source": [
    "mde = 1\n",
    "for share in [0.1, 0.25, 0.5]:\n",
    "    for delta in [30, 60, 90]:\n",
    "        x1 = choose_date(df, datetime.datetime(2019, 6, 18, 0, 0), delta, share)  # получаем необходимую подвыборку\n",
    "\n",
    "        mean = x1.revenue_amount.mean()\n",
    "        std = x1.revenue_amount.std()\n",
    "\n",
    "        alpha = 0.01\n",
    "        power = 0.8\n",
    "        effects = np.linspace(0.5, 0.001, 1000)\n",
    "\n",
    "        for result_effect in effects:\n",
    "            effect_size = (mean / std) * result_effect\n",
    "\n",
    "            sample_vol = tt_ind_solve_power(effect_size=effect_size,\n",
    "                                            alpha=alpha,\n",
    "                                            power=power,\n",
    "                                            nobs1=None,\n",
    "                                            ratio=1,\n",
    "                                            alternative='two-sided')\n",
    "            if sample_vol / x1.shape[0] <= 1:\n",
    "                mde = result_effect\n",
    "                \n",
    "        print(f'При продолжительности эксперимента {delta} дней и размере тестовых групп {100*share}% MDE = {mde}')"
   ]
  },
  {
   "cell_type": "markdown",
   "metadata": {},
   "source": [
    "Как видим MDE не сильно зависит от длительности эксперимента: изменения небольшие (в тысячных). При увеличении размера выборок MDE понижается уже более значительно, но при самых сильных условиях, когда и длительность самая большая (из предложенных) и размер выборки наибольший, то составляет чуть меньше 6%, что для выручки довольно много (если это не какой-то небольшой бизнес, а уже устоявшийся, придётся вводит какое-то сильное изменение, чтобы достигнуть такого). \n",
    "\n",
    "Нужно уменьшить дисперсию, и посмотреть на результаты, когда тесты будут более чувствительны.\n",
    "## CUPED"
   ]
  },
  {
   "cell_type": "code",
   "execution_count": 31,
   "metadata": {},
   "outputs": [],
   "source": [
    "def choose_pre_period(data, start_date, delta, users): \n",
    "    tmp = data[\n",
    "        (data.event_date >= start_date) &\n",
    "        (data.event_date <= start_date + datetime.timedelta(days=delta)) &\n",
    "        (data.user_id.isin(users))  # берём только тех, кто будет в основной выборке\n",
    "    ]\n",
    "    tmp = tmp.groupby('user_id').sum().reset_index()\n",
    "    return tmp"
   ]
  },
  {
   "cell_type": "markdown",
   "metadata": {},
   "source": [
    "Возьмём второй месяц от начальной даты за текущий период (основная выборка), тогда месяц с начальной даты будет предпериодом, размер выборки берём 50/50%."
   ]
  },
  {
   "cell_type": "code",
   "execution_count": 32,
   "metadata": {},
   "outputs": [],
   "source": [
    "x = choose_date(df, datetime.datetime(2019, 7, 18, 0, 0), 30, 0.5)\n",
    "pre_x = choose_pre_period(df, datetime.datetime(2019, 6, 18, 0, 0), 30, x.user_id)"
   ]
  },
  {
   "cell_type": "code",
   "execution_count": 33,
   "metadata": {},
   "outputs": [
    {
     "data": {
      "text/html": [
       "<div>\n",
       "<style scoped>\n",
       "    .dataframe tbody tr th:only-of-type {\n",
       "        vertical-align: middle;\n",
       "    }\n",
       "\n",
       "    .dataframe tbody tr th {\n",
       "        vertical-align: top;\n",
       "    }\n",
       "\n",
       "    .dataframe thead th {\n",
       "        text-align: right;\n",
       "    }\n",
       "</style>\n",
       "<table border=\"1\" class=\"dataframe\">\n",
       "  <thead>\n",
       "    <tr style=\"text-align: right;\">\n",
       "      <th></th>\n",
       "      <th>index</th>\n",
       "      <th>user_id</th>\n",
       "      <th>user_segment</th>\n",
       "      <th>category</th>\n",
       "      <th>region</th>\n",
       "      <th>revenue_amount_x</th>\n",
       "      <th>revenue_amount_y</th>\n",
       "    </tr>\n",
       "  </thead>\n",
       "  <tbody>\n",
       "    <tr>\n",
       "      <th>0</th>\n",
       "      <td>0</td>\n",
       "      <td>702221222224</td>\n",
       "      <td>4.626945e+18</td>\n",
       "      <td>6.742558e+18</td>\n",
       "      <td>2.201389e+18</td>\n",
       "      <td>356.0</td>\n",
       "      <td>NaN</td>\n",
       "    </tr>\n",
       "    <tr>\n",
       "      <th>1</th>\n",
       "      <td>6</td>\n",
       "      <td>73834573097944</td>\n",
       "      <td>9.253889e+18</td>\n",
       "      <td>6.813584e+18</td>\n",
       "      <td>2.232932e+18</td>\n",
       "      <td>2392.0</td>\n",
       "      <td>NaN</td>\n",
       "    </tr>\n",
       "    <tr>\n",
       "      <th>2</th>\n",
       "      <td>8</td>\n",
       "      <td>87029396555710</td>\n",
       "      <td>4.626945e+18</td>\n",
       "      <td>1.560592e+18</td>\n",
       "      <td>6.847539e+16</td>\n",
       "      <td>111.0</td>\n",
       "      <td>NaN</td>\n",
       "    </tr>\n",
       "    <tr>\n",
       "      <th>3</th>\n",
       "      <td>9</td>\n",
       "      <td>88433173713624</td>\n",
       "      <td>4.752148e+18</td>\n",
       "      <td>3.489802e+17</td>\n",
       "      <td>6.826400e+18</td>\n",
       "      <td>68.0</td>\n",
       "      <td>NaN</td>\n",
       "    </tr>\n",
       "    <tr>\n",
       "      <th>4</th>\n",
       "      <td>10</td>\n",
       "      <td>111281855931038</td>\n",
       "      <td>4.626945e+18</td>\n",
       "      <td>6.742558e+18</td>\n",
       "      <td>5.780544e+18</td>\n",
       "      <td>139.0</td>\n",
       "      <td>NaN</td>\n",
       "    </tr>\n",
       "    <tr>\n",
       "      <th>...</th>\n",
       "      <td>...</td>\n",
       "      <td>...</td>\n",
       "      <td>...</td>\n",
       "      <td>...</td>\n",
       "      <td>...</td>\n",
       "      <td>...</td>\n",
       "      <td>...</td>\n",
       "    </tr>\n",
       "    <tr>\n",
       "      <th>305292</th>\n",
       "      <td>599025</td>\n",
       "      <td>9223242627945572242</td>\n",
       "      <td>4.626945e+18</td>\n",
       "      <td>7.247165e+18</td>\n",
       "      <td>1.481836e+18</td>\n",
       "      <td>322.0</td>\n",
       "      <td>NaN</td>\n",
       "    </tr>\n",
       "    <tr>\n",
       "      <th>305293</th>\n",
       "      <td>599027</td>\n",
       "      <td>9223307794984562620</td>\n",
       "      <td>4.626945e+18</td>\n",
       "      <td>4.394253e+18</td>\n",
       "      <td>4.607638e+18</td>\n",
       "      <td>196.0</td>\n",
       "      <td>NaN</td>\n",
       "    </tr>\n",
       "    <tr>\n",
       "      <th>305294</th>\n",
       "      <td>599030</td>\n",
       "      <td>9223348554567144516</td>\n",
       "      <td>4.626945e+18</td>\n",
       "      <td>4.394253e+18</td>\n",
       "      <td>3.413200e+18</td>\n",
       "      <td>49.0</td>\n",
       "      <td>55.0</td>\n",
       "    </tr>\n",
       "    <tr>\n",
       "      <th>305295</th>\n",
       "      <td>599031</td>\n",
       "      <td>9223366785772814828</td>\n",
       "      <td>9.504297e+18</td>\n",
       "      <td>1.275108e+19</td>\n",
       "      <td>5.861974e+18</td>\n",
       "      <td>4448.0</td>\n",
       "      <td>3336.0</td>\n",
       "    </tr>\n",
       "    <tr>\n",
       "      <th>305296</th>\n",
       "      <td>599032</td>\n",
       "      <td>9223368123214483614</td>\n",
       "      <td>4.626945e+18</td>\n",
       "      <td>5.983324e+18</td>\n",
       "      <td>3.413200e+18</td>\n",
       "      <td>909.0</td>\n",
       "      <td>NaN</td>\n",
       "    </tr>\n",
       "  </tbody>\n",
       "</table>\n",
       "<p>305297 rows × 7 columns</p>\n",
       "</div>"
      ],
      "text/plain": [
       "         index              user_id  user_segment      category        region  \\\n",
       "0            0         702221222224  4.626945e+18  6.742558e+18  2.201389e+18   \n",
       "1            6       73834573097944  9.253889e+18  6.813584e+18  2.232932e+18   \n",
       "2            8       87029396555710  4.626945e+18  1.560592e+18  6.847539e+16   \n",
       "3            9       88433173713624  4.752148e+18  3.489802e+17  6.826400e+18   \n",
       "4           10      111281855931038  4.626945e+18  6.742558e+18  5.780544e+18   \n",
       "...        ...                  ...           ...           ...           ...   \n",
       "305292  599025  9223242627945572242  4.626945e+18  7.247165e+18  1.481836e+18   \n",
       "305293  599027  9223307794984562620  4.626945e+18  4.394253e+18  4.607638e+18   \n",
       "305294  599030  9223348554567144516  4.626945e+18  4.394253e+18  3.413200e+18   \n",
       "305295  599031  9223366785772814828  9.504297e+18  1.275108e+19  5.861974e+18   \n",
       "305296  599032  9223368123214483614  4.626945e+18  5.983324e+18  3.413200e+18   \n",
       "\n",
       "        revenue_amount_x  revenue_amount_y  \n",
       "0                  356.0               NaN  \n",
       "1                 2392.0               NaN  \n",
       "2                  111.0               NaN  \n",
       "3                   68.0               NaN  \n",
       "4                  139.0               NaN  \n",
       "...                  ...               ...  \n",
       "305292             322.0               NaN  \n",
       "305293             196.0               NaN  \n",
       "305294              49.0              55.0  \n",
       "305295            4448.0            3336.0  \n",
       "305296             909.0               NaN  \n",
       "\n",
       "[305297 rows x 7 columns]"
      ]
     },
     "execution_count": 33,
     "metadata": {},
     "output_type": "execute_result"
    }
   ],
   "source": [
    "data = x.merge(right=pre_x[['user_id', 'revenue_amount']], how='left', on='user_id')\n",
    "data"
   ]
  },
  {
   "cell_type": "code",
   "execution_count": 34,
   "metadata": {},
   "outputs": [],
   "source": [
    "data.fillna(0, inplace=True)\n",
    "data.rename(columns={\n",
    "    'revenue_amount_x': 'revenue_amount',\n",
    "    'revenue_amount_y': 'pre_revenue_amount'\n",
    "}, inplace=True)"
   ]
  },
  {
   "cell_type": "markdown",
   "metadata": {},
   "source": [
    "Считаем среднее предданных"
   ]
  },
  {
   "cell_type": "code",
   "execution_count": 35,
   "metadata": {},
   "outputs": [],
   "source": [
    "data['pre_revenue_avg'] = data.pre_revenue_amount.mean()"
   ]
  },
  {
   "cell_type": "markdown",
   "metadata": {},
   "source": [
    "Считаем множитель для CUPED"
   ]
  },
  {
   "cell_type": "code",
   "execution_count": 36,
   "metadata": {},
   "outputs": [],
   "source": [
    "theta = np.cov(data.revenue_amount, data.pre_revenue_amount, ddof=1)[1,0] / \\\n",
    "        np.var(data.pre_revenue_amount, ddof=1)"
   ]
  },
  {
   "cell_type": "code",
   "execution_count": 37,
   "metadata": {},
   "outputs": [],
   "source": [
    "corr = np.corrcoef(data.revenue_amount, data.pre_revenue_amount)[1,0] "
   ]
  },
  {
   "cell_type": "markdown",
   "metadata": {},
   "source": [
    "Считаем CUPED-метрику"
   ]
  },
  {
   "cell_type": "code",
   "execution_count": 38,
   "metadata": {},
   "outputs": [],
   "source": [
    "data['cuped_revenue_amount'] = data.revenue_amount - theta * (data.pre_revenue_amount - data.pre_revenue_avg)"
   ]
  },
  {
   "cell_type": "code",
   "execution_count": 39,
   "metadata": {},
   "outputs": [
    {
     "data": {
      "text/html": [
       "<div>\n",
       "<style scoped>\n",
       "    .dataframe tbody tr th:only-of-type {\n",
       "        vertical-align: middle;\n",
       "    }\n",
       "\n",
       "    .dataframe tbody tr th {\n",
       "        vertical-align: top;\n",
       "    }\n",
       "\n",
       "    .dataframe thead th {\n",
       "        text-align: right;\n",
       "    }\n",
       "</style>\n",
       "<table border=\"1\" class=\"dataframe\">\n",
       "  <thead>\n",
       "    <tr style=\"text-align: right;\">\n",
       "      <th></th>\n",
       "      <th>index</th>\n",
       "      <th>user_id</th>\n",
       "      <th>user_segment</th>\n",
       "      <th>category</th>\n",
       "      <th>region</th>\n",
       "      <th>revenue_amount</th>\n",
       "      <th>pre_revenue_amount</th>\n",
       "      <th>pre_revenue_avg</th>\n",
       "      <th>cuped_revenue_amount</th>\n",
       "    </tr>\n",
       "  </thead>\n",
       "  <tbody>\n",
       "    <tr>\n",
       "      <th>0</th>\n",
       "      <td>0</td>\n",
       "      <td>702221222224</td>\n",
       "      <td>4.626945e+18</td>\n",
       "      <td>6.742558e+18</td>\n",
       "      <td>2.201389e+18</td>\n",
       "      <td>356.0</td>\n",
       "      <td>0.0</td>\n",
       "      <td>802.732022</td>\n",
       "      <td>1040.736240</td>\n",
       "    </tr>\n",
       "    <tr>\n",
       "      <th>1</th>\n",
       "      <td>6</td>\n",
       "      <td>73834573097944</td>\n",
       "      <td>9.253889e+18</td>\n",
       "      <td>6.813584e+18</td>\n",
       "      <td>2.232932e+18</td>\n",
       "      <td>2392.0</td>\n",
       "      <td>0.0</td>\n",
       "      <td>802.732022</td>\n",
       "      <td>3076.736240</td>\n",
       "    </tr>\n",
       "    <tr>\n",
       "      <th>2</th>\n",
       "      <td>8</td>\n",
       "      <td>87029396555710</td>\n",
       "      <td>4.626945e+18</td>\n",
       "      <td>1.560592e+18</td>\n",
       "      <td>6.847539e+16</td>\n",
       "      <td>111.0</td>\n",
       "      <td>0.0</td>\n",
       "      <td>802.732022</td>\n",
       "      <td>795.736240</td>\n",
       "    </tr>\n",
       "    <tr>\n",
       "      <th>3</th>\n",
       "      <td>9</td>\n",
       "      <td>88433173713624</td>\n",
       "      <td>4.752148e+18</td>\n",
       "      <td>3.489802e+17</td>\n",
       "      <td>6.826400e+18</td>\n",
       "      <td>68.0</td>\n",
       "      <td>0.0</td>\n",
       "      <td>802.732022</td>\n",
       "      <td>752.736240</td>\n",
       "    </tr>\n",
       "    <tr>\n",
       "      <th>4</th>\n",
       "      <td>10</td>\n",
       "      <td>111281855931038</td>\n",
       "      <td>4.626945e+18</td>\n",
       "      <td>6.742558e+18</td>\n",
       "      <td>5.780544e+18</td>\n",
       "      <td>139.0</td>\n",
       "      <td>0.0</td>\n",
       "      <td>802.732022</td>\n",
       "      <td>823.736240</td>\n",
       "    </tr>\n",
       "    <tr>\n",
       "      <th>...</th>\n",
       "      <td>...</td>\n",
       "      <td>...</td>\n",
       "      <td>...</td>\n",
       "      <td>...</td>\n",
       "      <td>...</td>\n",
       "      <td>...</td>\n",
       "      <td>...</td>\n",
       "      <td>...</td>\n",
       "      <td>...</td>\n",
       "    </tr>\n",
       "    <tr>\n",
       "      <th>305292</th>\n",
       "      <td>599025</td>\n",
       "      <td>9223242627945572242</td>\n",
       "      <td>4.626945e+18</td>\n",
       "      <td>7.247165e+18</td>\n",
       "      <td>1.481836e+18</td>\n",
       "      <td>322.0</td>\n",
       "      <td>0.0</td>\n",
       "      <td>802.732022</td>\n",
       "      <td>1006.736240</td>\n",
       "    </tr>\n",
       "    <tr>\n",
       "      <th>305293</th>\n",
       "      <td>599027</td>\n",
       "      <td>9223307794984562620</td>\n",
       "      <td>4.626945e+18</td>\n",
       "      <td>4.394253e+18</td>\n",
       "      <td>4.607638e+18</td>\n",
       "      <td>196.0</td>\n",
       "      <td>0.0</td>\n",
       "      <td>802.732022</td>\n",
       "      <td>880.736240</td>\n",
       "    </tr>\n",
       "    <tr>\n",
       "      <th>305294</th>\n",
       "      <td>599030</td>\n",
       "      <td>9223348554567144516</td>\n",
       "      <td>4.626945e+18</td>\n",
       "      <td>4.394253e+18</td>\n",
       "      <td>3.413200e+18</td>\n",
       "      <td>49.0</td>\n",
       "      <td>55.0</td>\n",
       "      <td>802.732022</td>\n",
       "      <td>686.820841</td>\n",
       "    </tr>\n",
       "    <tr>\n",
       "      <th>305295</th>\n",
       "      <td>599031</td>\n",
       "      <td>9223366785772814828</td>\n",
       "      <td>9.504297e+18</td>\n",
       "      <td>1.275108e+19</td>\n",
       "      <td>5.861974e+18</td>\n",
       "      <td>4448.0</td>\n",
       "      <td>3336.0</td>\n",
       "      <td>802.732022</td>\n",
       "      <td>2287.104029</td>\n",
       "    </tr>\n",
       "    <tr>\n",
       "      <th>305296</th>\n",
       "      <td>599032</td>\n",
       "      <td>9223368123214483614</td>\n",
       "      <td>4.626945e+18</td>\n",
       "      <td>5.983324e+18</td>\n",
       "      <td>3.413200e+18</td>\n",
       "      <td>909.0</td>\n",
       "      <td>0.0</td>\n",
       "      <td>802.732022</td>\n",
       "      <td>1593.736240</td>\n",
       "    </tr>\n",
       "  </tbody>\n",
       "</table>\n",
       "<p>305297 rows × 9 columns</p>\n",
       "</div>"
      ],
      "text/plain": [
       "         index              user_id  user_segment      category        region  \\\n",
       "0            0         702221222224  4.626945e+18  6.742558e+18  2.201389e+18   \n",
       "1            6       73834573097944  9.253889e+18  6.813584e+18  2.232932e+18   \n",
       "2            8       87029396555710  4.626945e+18  1.560592e+18  6.847539e+16   \n",
       "3            9       88433173713624  4.752148e+18  3.489802e+17  6.826400e+18   \n",
       "4           10      111281855931038  4.626945e+18  6.742558e+18  5.780544e+18   \n",
       "...        ...                  ...           ...           ...           ...   \n",
       "305292  599025  9223242627945572242  4.626945e+18  7.247165e+18  1.481836e+18   \n",
       "305293  599027  9223307794984562620  4.626945e+18  4.394253e+18  4.607638e+18   \n",
       "305294  599030  9223348554567144516  4.626945e+18  4.394253e+18  3.413200e+18   \n",
       "305295  599031  9223366785772814828  9.504297e+18  1.275108e+19  5.861974e+18   \n",
       "305296  599032  9223368123214483614  4.626945e+18  5.983324e+18  3.413200e+18   \n",
       "\n",
       "        revenue_amount  pre_revenue_amount  pre_revenue_avg  \\\n",
       "0                356.0                 0.0       802.732022   \n",
       "1               2392.0                 0.0       802.732022   \n",
       "2                111.0                 0.0       802.732022   \n",
       "3                 68.0                 0.0       802.732022   \n",
       "4                139.0                 0.0       802.732022   \n",
       "...                ...                 ...              ...   \n",
       "305292           322.0                 0.0       802.732022   \n",
       "305293           196.0                 0.0       802.732022   \n",
       "305294            49.0                55.0       802.732022   \n",
       "305295          4448.0              3336.0       802.732022   \n",
       "305296           909.0                 0.0       802.732022   \n",
       "\n",
       "        cuped_revenue_amount  \n",
       "0                1040.736240  \n",
       "1                3076.736240  \n",
       "2                 795.736240  \n",
       "3                 752.736240  \n",
       "4                 823.736240  \n",
       "...                      ...  \n",
       "305292           1006.736240  \n",
       "305293            880.736240  \n",
       "305294            686.820841  \n",
       "305295           2287.104029  \n",
       "305296           1593.736240  \n",
       "\n",
       "[305297 rows x 9 columns]"
      ]
     },
     "execution_count": 39,
     "metadata": {},
     "output_type": "execute_result"
    }
   ],
   "source": [
    "data"
   ]
  },
  {
   "cell_type": "code",
   "execution_count": 40,
   "metadata": {},
   "outputs": [
    {
     "name": "stdout",
     "output_type": "stream",
     "text": [
      "MDE = 0.03396696696696694\n"
     ]
    }
   ],
   "source": [
    "mean = data.cuped_revenue_amount.mean()\n",
    "std = data.cuped_revenue_amount.std()\n",
    "\n",
    "alpha = 0.01\n",
    "power = 0.8\n",
    "effects = np.linspace(0.5, 0.001, 1000)\n",
    "\n",
    "for result_effect in effects:\n",
    "    effect_size = (mean / std) * result_effect\n",
    "\n",
    "    sample_vol = tt_ind_solve_power(effect_size=effect_size,\n",
    "                                    alpha=alpha,\n",
    "                                    power=power,\n",
    "                                    nobs1=None,\n",
    "                                    ratio=1,\n",
    "                                    alternative='two-sided')\n",
    "    if sample_vol / data.shape[0] <= 1:\n",
    "        mde = result_effect\n",
    "\n",
    "print(f'MDE = {mde}')"
   ]
  },
  {
   "cell_type": "markdown",
   "metadata": {},
   "source": [
    "MDE снизился до 3.4% с 5.7%, который был посчитан не по CUPED-метрике.\n",
    "\n",
    "#### Теперь проверим, как меняется MDE, если брать разные периоды, подвержен ли он сезональности.\n",
    "\n",
    "Шаг между периодами можно взять неделю, если брать меньше, то возможно не успеют набежать метрики значительно, поэтому неделя вполне сойдёт.\n",
    "\n",
    "Посчитаем сколько шагов сделаем до дня, когда вычтем из максимальной даты месяц (последний возомжный основной период в 30 дней), начальную дату плюс месяц."
   ]
  },
  {
   "cell_type": "code",
   "execution_count": 41,
   "metadata": {},
   "outputs": [
    {
     "data": {
      "text/plain": [
       "16.142857142857142"
      ]
     },
     "execution_count": 41,
     "metadata": {},
     "output_type": "execute_result"
    }
   ],
   "source": [
    "((df.event_date.max() - datetime.timedelta(days=30)) -\n",
    " (df.event_date.min() + datetime.timedelta(days=31))).days / 7"
   ]
  },
  {
   "cell_type": "markdown",
   "metadata": {},
   "source": [
    "Вышло 16 шагов, то есть 16 полных недель.\n",
    "\n",
    "Оформим код выше в отдельную функцию."
   ]
  },
  {
   "cell_type": "code",
   "execution_count": 42,
   "metadata": {},
   "outputs": [],
   "source": [
    "def calculate_mde(df, date, delta, share):\n",
    "    x = choose_date(df, date, delta, share)\n",
    "    pre_x = choose_pre_period(df, date - datetime.timedelta(days=30), 30, x.user_id)\n",
    "    \n",
    "    data = x.merge(right=pre_x[['user_id', 'revenue_amount']], how='left', on='user_id')\n",
    "    data.fillna(0, inplace=True)\n",
    "    data.rename(columns={\n",
    "        'revenue_amount_x': 'revenue_amount',\n",
    "        'revenue_amount_y': 'pre_revenue_amount'\n",
    "    }, inplace=True)\n",
    "    \n",
    "    data['pre_revenue_avg'] = data.pre_revenue_amount.mean()\n",
    "    theta = np.cov(data.revenue_amount, data.pre_revenue_amount, ddof=1)[1,0] / \\\n",
    "            np.var(data.pre_revenue_amount, ddof=1)\n",
    "    corr = np.corrcoef(data.revenue_amount, data.pre_revenue_amount)[1,0]\n",
    "    data['cuped_revenue_amount'] = data.revenue_amount - theta * (data.pre_revenue_amount - data.pre_revenue_avg)\n",
    "    \n",
    "    mean = data.cuped_revenue_amount.mean()\n",
    "    std = data.cuped_revenue_amount.std()\n",
    "\n",
    "    alpha = 0.01\n",
    "    power = 0.8\n",
    "    effects = np.linspace(0.5, 0.001, 1000)\n",
    "    mde = 1\n",
    "    \n",
    "    for result_effect in effects:\n",
    "        effect_size = (mean / std) * result_effect\n",
    "\n",
    "        sample_vol = tt_ind_solve_power(effect_size=effect_size,\n",
    "                                        alpha=alpha,\n",
    "                                        power=power,\n",
    "                                        nobs1=None,\n",
    "                                        ratio=1,\n",
    "                                        alternative='two-sided')\n",
    "        if sample_vol / data.shape[0] <= 1:\n",
    "            mde = result_effect\n",
    "    \n",
    "    return mde"
   ]
  },
  {
   "cell_type": "code",
   "execution_count": 43,
   "metadata": {},
   "outputs": [],
   "source": [
    "MDEs = []\n",
    "dates = []\n",
    "min_date = datetime.datetime(2019, 7, 19, 0, 0)\n",
    "min_mde = 1\n",
    "\n",
    "for i in range(16):\n",
    "    cur_date = datetime.datetime(2019, 7, 19, 0, 0) + datetime.timedelta(days=7*i)\n",
    "    mde = calculate_mde(df, cur_date, 30, 0.5)\n",
    "    \n",
    "    if mde < min_mde:\n",
    "        min_mde = mde\n",
    "        min_date = cur_date\n",
    "        \n",
    "    MDEs.append(mde)\n",
    "    dates.append(cur_date)"
   ]
  },
  {
   "cell_type": "code",
   "execution_count": 44,
   "metadata": {},
   "outputs": [
    {
     "data": {
      "image/png": "[encoded data removed]",
      "text/plain": [
       "<Figure size 720x432 with 1 Axes>"
      ]
     },
     "metadata": {
      "needs_background": "light"
     },
     "output_type": "display_data"
    }
   ],
   "source": [
    "fig = plt.subplots(figsize=(10, 6))\n",
    "plt.plot(dates, MDEs)\n",
    "plt.grid()"
   ]
  },
  {
   "cell_type": "code",
   "execution_count": 45,
   "metadata": {},
   "outputs": [
    {
     "name": "stdout",
     "output_type": "stream",
     "text": [
      "Минимальный MDE в 0.021978978978978936 был достигнут в периоде с 2019-09-20 00:00:00\n"
     ]
    }
   ],
   "source": [
    "print(f'Минимальный MDE в {min_mde} был достигнут в периоде с {min_date}')"
   ]
  },
  {
   "cell_type": "markdown",
   "metadata": {},
   "source": [
    "Видим из графика, что MDE зависит от даты, с которой берём период, то есть подвержен сезональности. Минимальный MDE с использованием CUPED-метрики в итоге вышел 2.2%, когда без неё был 5.7%."
   ]
  },
  {
   "cell_type": "markdown",
   "metadata": {},
   "source": [
    "#### Оптимизируем подход, варьируя количество дней до теста, которые будем брать для расчёта CUPED метрики.\n",
    "\n",
    "Будем отодвигать на один день от тестового периода, который мы нашли выше, то есть 2019-09-20, мы можем отодвигать дату до тех пор, пока не дойдём до начальная дата плюс месяц (2019-07-19)."
   ]
  },
  {
   "cell_type": "code",
   "execution_count": 55,
   "metadata": {},
   "outputs": [
    {
     "data": {
      "text/plain": [
       "33"
      ]
     },
     "execution_count": 55,
     "metadata": {},
     "output_type": "execute_result"
    }
   ],
   "source": [
    "(datetime.datetime(2019, 9, 20, 0, 0) - datetime.timedelta(days=30)-\n",
    " datetime.datetime(2019, 7, 19, 0, 0)).days"
   ]
  },
  {
   "cell_type": "code",
   "execution_count": 52,
   "metadata": {},
   "outputs": [],
   "source": [
    "def calculate_mde_with_shift(df, date, delta, share, shift):\n",
    "    x = choose_date(df, date, delta, share)\n",
    "    pre_x = choose_pre_period(df, date - datetime.timedelta(days=30+shift), 30, x.user_id)\n",
    "    \n",
    "    data = x.merge(right=pre_x[['user_id', 'revenue_amount']], how='left', on='user_id')\n",
    "    data.fillna(0, inplace=True)\n",
    "    data.rename(columns={\n",
    "        'revenue_amount_x': 'revenue_amount',\n",
    "        'revenue_amount_y': 'pre_revenue_amount'\n",
    "    }, inplace=True)\n",
    "    \n",
    "    data['pre_revenue_avg'] = data.pre_revenue_amount.mean()\n",
    "    theta = np.cov(data.revenue_amount, data.pre_revenue_amount, ddof=1)[1,0] / \\\n",
    "            np.var(data.pre_revenue_amount, ddof=1)\n",
    "    corr = np.corrcoef(data.revenue_amount, data.pre_revenue_amount)[1,0]\n",
    "    data['cuped_revenue_amount'] = data.revenue_amount - theta * (data.pre_revenue_amount - data.pre_revenue_avg)\n",
    "    \n",
    "    mean = data.cuped_revenue_amount.mean()\n",
    "    std = data.cuped_revenue_amount.std()\n",
    "\n",
    "    alpha = 0.01\n",
    "    power = 0.8\n",
    "    effects = np.linspace(0.5, 0.001, 1000)\n",
    "    mde = 1\n",
    "    \n",
    "    for result_effect in effects:\n",
    "        effect_size = (mean / std) * result_effect\n",
    "\n",
    "        sample_vol = tt_ind_solve_power(effect_size=effect_size,\n",
    "                                        alpha=alpha,\n",
    "                                        power=power,\n",
    "                                        nobs1=None,\n",
    "                                        ratio=1,\n",
    "                                        alternative='two-sided')\n",
    "        if sample_vol / data.shape[0] <= 1:\n",
    "            mde = result_effect\n",
    "    \n",
    "    return mde"
   ]
  },
  {
   "cell_type": "code",
   "execution_count": 61,
   "metadata": {},
   "outputs": [],
   "source": [
    "MDEs = []\n",
    "dates = []\n",
    "min_date = datetime.datetime(2019, 9, 30, 0, 0)\n",
    "min_mde = 1\n",
    "\n",
    "for i in range(30):\n",
    "    cur_date = datetime.datetime(2019, 9, 30, 0, 0) - datetime.timedelta(days=i)\n",
    "    mde = calculate_mde_with_shift(df, cur_date, 30, 0.5, i)\n",
    "    \n",
    "    if mde < min_mde:\n",
    "        min_mde = mde\n",
    "        min_date = cur_date\n",
    "        \n",
    "    MDEs.append(mde)\n",
    "    dates.append(cur_date)"
   ]
  },
  {
   "cell_type": "code",
   "execution_count": 62,
   "metadata": {},
   "outputs": [
    {
     "data": {
      "image/png": "[encoded data removed]",
      "text/plain": [
       "<Figure size 720x432 with 1 Axes>"
      ]
     },
     "metadata": {
      "needs_background": "light"
     },
     "output_type": "display_data"
    }
   ],
   "source": [
    "fig = plt.subplots(figsize=(10, 6))\n",
    "plt.plot(dates, MDEs)\n",
    "plt.grid()"
   ]
  },
  {
   "cell_type": "markdown",
   "metadata": {},
   "source": [
    "Не получается опуститься ниже, чем было раньше."
   ]
  },
  {
   "cell_type": "markdown",
   "metadata": {},
   "source": [
    "### Стратификация\n",
    "\n",
    "Сначала рассмотрим срез сегментов пользователей"
   ]
  },
  {
   "cell_type": "code",
   "execution_count": 108,
   "metadata": {},
   "outputs": [],
   "source": [
    "x = choose_date(df, datetime.datetime(2019, 6, 18, 0, 0), 30, 0.5)  # получаем необходимую подвыборку\n",
    "x.drop(columns=['index', 'category', 'region'], axis=1, inplace=True)\n",
    "\n",
    "strata_p = x.groupby('user_segment').count() / x.count()[0]\n",
    "data_strat = x.join(strata_p, on='user_segment', rsuffix='_probability')\n",
    "data_strat.drop(['user_id_probability'], axis=1, inplace=True)"
   ]
  },
  {
   "cell_type": "code",
   "execution_count": 109,
   "metadata": {},
   "outputs": [
    {
     "data": {
      "text/html": [
       "<div>\n",
       "<style scoped>\n",
       "    .dataframe tbody tr th:only-of-type {\n",
       "        vertical-align: middle;\n",
       "    }\n",
       "\n",
       "    .dataframe tbody tr th {\n",
       "        vertical-align: top;\n",
       "    }\n",
       "\n",
       "    .dataframe thead th {\n",
       "        text-align: right;\n",
       "    }\n",
       "</style>\n",
       "<table border=\"1\" class=\"dataframe\">\n",
       "  <thead>\n",
       "    <tr style=\"text-align: right;\">\n",
       "      <th></th>\n",
       "      <th>user_id</th>\n",
       "      <th>user_segment</th>\n",
       "      <th>revenue_amount</th>\n",
       "      <th>revenue_amount_probability</th>\n",
       "    </tr>\n",
       "  </thead>\n",
       "  <tbody>\n",
       "    <tr>\n",
       "      <th>0</th>\n",
       "      <td>7562887359106</td>\n",
       "      <td>9.253889e+18</td>\n",
       "      <td>105.0</td>\n",
       "      <td>0.085235</td>\n",
       "    </tr>\n",
       "    <tr>\n",
       "      <th>1</th>\n",
       "      <td>133237288205136</td>\n",
       "      <td>4.626945e+18</td>\n",
       "      <td>160.0</td>\n",
       "      <td>0.413520</td>\n",
       "    </tr>\n",
       "    <tr>\n",
       "      <th>2</th>\n",
       "      <td>209672890150349</td>\n",
       "      <td>9.253889e+18</td>\n",
       "      <td>397.0</td>\n",
       "      <td>0.085235</td>\n",
       "    </tr>\n",
       "    <tr>\n",
       "      <th>3</th>\n",
       "      <td>239972521062310</td>\n",
       "      <td>9.253889e+18</td>\n",
       "      <td>574.0</td>\n",
       "      <td>0.085235</td>\n",
       "    </tr>\n",
       "    <tr>\n",
       "      <th>4</th>\n",
       "      <td>277934167554935</td>\n",
       "      <td>2.851289e+19</td>\n",
       "      <td>4832.0</td>\n",
       "      <td>0.001421</td>\n",
       "    </tr>\n",
       "    <tr>\n",
       "      <th>...</th>\n",
       "      <td>...</td>\n",
       "      <td>...</td>\n",
       "      <td>...</td>\n",
       "      <td>...</td>\n",
       "    </tr>\n",
       "    <tr>\n",
       "      <th>315276</th>\n",
       "      <td>9223230347802593537</td>\n",
       "      <td>1.850778e+19</td>\n",
       "      <td>514.0</td>\n",
       "      <td>0.014650</td>\n",
       "    </tr>\n",
       "    <tr>\n",
       "      <th>315277</th>\n",
       "      <td>9223281527007418220</td>\n",
       "      <td>4.626945e+18</td>\n",
       "      <td>288.0</td>\n",
       "      <td>0.413520</td>\n",
       "    </tr>\n",
       "    <tr>\n",
       "      <th>315278</th>\n",
       "      <td>9223306345881997142</td>\n",
       "      <td>4.626945e+18</td>\n",
       "      <td>195.0</td>\n",
       "      <td>0.413520</td>\n",
       "    </tr>\n",
       "    <tr>\n",
       "      <th>315279</th>\n",
       "      <td>9223348554567144516</td>\n",
       "      <td>9.253889e+18</td>\n",
       "      <td>55.0</td>\n",
       "      <td>0.085235</td>\n",
       "    </tr>\n",
       "    <tr>\n",
       "      <th>315280</th>\n",
       "      <td>9223366785772814828</td>\n",
       "      <td>7.128223e+18</td>\n",
       "      <td>3336.0</td>\n",
       "      <td>0.034001</td>\n",
       "    </tr>\n",
       "  </tbody>\n",
       "</table>\n",
       "<p>315281 rows × 4 columns</p>\n",
       "</div>"
      ],
      "text/plain": [
       "                    user_id  user_segment  revenue_amount  \\\n",
       "0             7562887359106  9.253889e+18           105.0   \n",
       "1           133237288205136  4.626945e+18           160.0   \n",
       "2           209672890150349  9.253889e+18           397.0   \n",
       "3           239972521062310  9.253889e+18           574.0   \n",
       "4           277934167554935  2.851289e+19          4832.0   \n",
       "...                     ...           ...             ...   \n",
       "315276  9223230347802593537  1.850778e+19           514.0   \n",
       "315277  9223281527007418220  4.626945e+18           288.0   \n",
       "315278  9223306345881997142  4.626945e+18           195.0   \n",
       "315279  9223348554567144516  9.253889e+18            55.0   \n",
       "315280  9223366785772814828  7.128223e+18          3336.0   \n",
       "\n",
       "        revenue_amount_probability  \n",
       "0                         0.085235  \n",
       "1                         0.413520  \n",
       "2                         0.085235  \n",
       "3                         0.085235  \n",
       "4                         0.001421  \n",
       "...                            ...  \n",
       "315276                    0.014650  \n",
       "315277                    0.413520  \n",
       "315278                    0.413520  \n",
       "315279                    0.085235  \n",
       "315280                    0.034001  \n",
       "\n",
       "[315281 rows x 4 columns]"
      ]
     },
     "execution_count": 109,
     "metadata": {},
     "output_type": "execute_result"
    }
   ],
   "source": [
    "data_strat"
   ]
  },
  {
   "cell_type": "code",
   "execution_count": 110,
   "metadata": {},
   "outputs": [
    {
     "data": {
      "text/plain": [
       "987.4865786393725"
      ]
     },
     "execution_count": 110,
     "metadata": {},
     "output_type": "execute_result"
    }
   ],
   "source": [
    "x.revenue_amount.mean()"
   ]
  },
  {
   "cell_type": "code",
   "execution_count": 111,
   "metadata": {},
   "outputs": [
    {
     "data": {
      "text/plain": [
       "987.4865786393725"
      ]
     },
     "execution_count": 111,
     "metadata": {},
     "output_type": "execute_result"
    }
   ],
   "source": [
    "strat_mean = (data_strat.groupby('user_segment').mean().revenue_amount *\n",
    "              data_strat.groupby('user_segment').mean().revenue_amount_probability).sum()\n",
    "strat_mean"
   ]
  },
  {
   "cell_type": "markdown",
   "metadata": {},
   "source": [
    "Средние равны. Посмотрим теперь на стандартное отклонение"
   ]
  },
  {
   "cell_type": "code",
   "execution_count": 112,
   "metadata": {},
   "outputs": [
    {
     "data": {
      "text/plain": [
       "6761.943172332728"
      ]
     },
     "execution_count": 112,
     "metadata": {},
     "output_type": "execute_result"
    }
   ],
   "source": [
    "(x.revenue_amount.var())**0.5"
   ]
  },
  {
   "cell_type": "code",
   "execution_count": 113,
   "metadata": {},
   "outputs": [
    {
     "data": {
      "text/plain": [
       "3941.944580831538"
      ]
     },
     "execution_count": 113,
     "metadata": {},
     "output_type": "execute_result"
    }
   ],
   "source": [
    "strat_std = ((data_strat.groupby('user_segment').var().revenue_amount *\n",
    "              data_strat.groupby('user_segment').mean().revenue_amount_probability).sum())**0.5\n",
    "strat_std"
   ]
  },
  {
   "cell_type": "code",
   "execution_count": 114,
   "metadata": {},
   "outputs": [
    {
     "name": "stdout",
     "output_type": "stream",
     "text": [
      "MDE = 0.03496596596596596\n"
     ]
    }
   ],
   "source": [
    "alpha = 0.01\n",
    "power = 0.8\n",
    "effects = np.linspace(0.5, 0.001, 1000)\n",
    "\n",
    "for result_effect in effects:\n",
    "    effect_size = (strat_mean / strat_std) * result_effect\n",
    "\n",
    "    sample_vol = tt_ind_solve_power(effect_size=effect_size,\n",
    "                                    alpha=alpha,\n",
    "                                    power=power,\n",
    "                                    nobs1=None,\n",
    "                                    ratio=1,\n",
    "                                    alternative='two-sided')\n",
    "    if sample_vol / data.shape[0] <= 1:\n",
    "        mde = result_effect\n",
    "\n",
    "print(f'MDE = {mde}')"
   ]
  },
  {
   "cell_type": "markdown",
   "metadata": {},
   "source": [
    "MDE снизился, но не ниже, чем был получен с помощью CUPED-метрики.\n",
    "\n",
    "Теперь посмотрим на срез регионов"
   ]
  },
  {
   "cell_type": "code",
   "execution_count": 115,
   "metadata": {
    "scrolled": false
   },
   "outputs": [
    {
     "data": {
      "text/html": [
       "<div>\n",
       "<style scoped>\n",
       "    .dataframe tbody tr th:only-of-type {\n",
       "        vertical-align: middle;\n",
       "    }\n",
       "\n",
       "    .dataframe tbody tr th {\n",
       "        vertical-align: top;\n",
       "    }\n",
       "\n",
       "    .dataframe thead th {\n",
       "        text-align: right;\n",
       "    }\n",
       "</style>\n",
       "<table border=\"1\" class=\"dataframe\">\n",
       "  <thead>\n",
       "    <tr style=\"text-align: right;\">\n",
       "      <th></th>\n",
       "      <th>user_id</th>\n",
       "      <th>region</th>\n",
       "      <th>revenue_amount</th>\n",
       "      <th>revenue_amount_probability</th>\n",
       "    </tr>\n",
       "  </thead>\n",
       "  <tbody>\n",
       "    <tr>\n",
       "      <th>0</th>\n",
       "      <td>7562887359106</td>\n",
       "      <td>9.252526e+18</td>\n",
       "      <td>105.0</td>\n",
       "      <td>0.001408</td>\n",
       "    </tr>\n",
       "    <tr>\n",
       "      <th>1</th>\n",
       "      <td>133237288205136</td>\n",
       "      <td>6.681910e+18</td>\n",
       "      <td>160.0</td>\n",
       "      <td>0.014739</td>\n",
       "    </tr>\n",
       "    <tr>\n",
       "      <th>2</th>\n",
       "      <td>209672890150349</td>\n",
       "      <td>5.037762e+18</td>\n",
       "      <td>397.0</td>\n",
       "      <td>0.000469</td>\n",
       "    </tr>\n",
       "    <tr>\n",
       "      <th>3</th>\n",
       "      <td>239972521062310</td>\n",
       "      <td>1.513513e+19</td>\n",
       "      <td>574.0</td>\n",
       "      <td>0.000542</td>\n",
       "    </tr>\n",
       "    <tr>\n",
       "      <th>4</th>\n",
       "      <td>277934167554935</td>\n",
       "      <td>3.301742e+19</td>\n",
       "      <td>4832.0</td>\n",
       "      <td>0.000057</td>\n",
       "    </tr>\n",
       "    <tr>\n",
       "      <th>...</th>\n",
       "      <td>...</td>\n",
       "      <td>...</td>\n",
       "      <td>...</td>\n",
       "      <td>...</td>\n",
       "    </tr>\n",
       "    <tr>\n",
       "      <th>315276</th>\n",
       "      <td>9223230347802593537</td>\n",
       "      <td>1.939227e+19</td>\n",
       "      <td>514.0</td>\n",
       "      <td>0.002290</td>\n",
       "    </tr>\n",
       "    <tr>\n",
       "      <th>315277</th>\n",
       "      <td>9223281527007418220</td>\n",
       "      <td>3.048518e+18</td>\n",
       "      <td>288.0</td>\n",
       "      <td>0.014961</td>\n",
       "    </tr>\n",
       "    <tr>\n",
       "      <th>315278</th>\n",
       "      <td>9223306345881997142</td>\n",
       "      <td>3.856675e+17</td>\n",
       "      <td>195.0</td>\n",
       "      <td>0.003854</td>\n",
       "    </tr>\n",
       "    <tr>\n",
       "      <th>315279</th>\n",
       "      <td>9223348554567144516</td>\n",
       "      <td>6.826400e+18</td>\n",
       "      <td>55.0</td>\n",
       "      <td>0.002740</td>\n",
       "    </tr>\n",
       "    <tr>\n",
       "      <th>315280</th>\n",
       "      <td>9223366785772814828</td>\n",
       "      <td>4.396480e+18</td>\n",
       "      <td>3336.0</td>\n",
       "      <td>0.001189</td>\n",
       "    </tr>\n",
       "  </tbody>\n",
       "</table>\n",
       "<p>315281 rows × 4 columns</p>\n",
       "</div>"
      ],
      "text/plain": [
       "                    user_id        region  revenue_amount  \\\n",
       "0             7562887359106  9.252526e+18           105.0   \n",
       "1           133237288205136  6.681910e+18           160.0   \n",
       "2           209672890150349  5.037762e+18           397.0   \n",
       "3           239972521062310  1.513513e+19           574.0   \n",
       "4           277934167554935  3.301742e+19          4832.0   \n",
       "...                     ...           ...             ...   \n",
       "315276  9223230347802593537  1.939227e+19           514.0   \n",
       "315277  9223281527007418220  3.048518e+18           288.0   \n",
       "315278  9223306345881997142  3.856675e+17           195.0   \n",
       "315279  9223348554567144516  6.826400e+18            55.0   \n",
       "315280  9223366785772814828  4.396480e+18          3336.0   \n",
       "\n",
       "        revenue_amount_probability  \n",
       "0                         0.001408  \n",
       "1                         0.014739  \n",
       "2                         0.000469  \n",
       "3                         0.000542  \n",
       "4                         0.000057  \n",
       "...                            ...  \n",
       "315276                    0.002290  \n",
       "315277                    0.014961  \n",
       "315278                    0.003854  \n",
       "315279                    0.002740  \n",
       "315280                    0.001189  \n",
       "\n",
       "[315281 rows x 4 columns]"
      ]
     },
     "execution_count": 115,
     "metadata": {},
     "output_type": "execute_result"
    }
   ],
   "source": [
    "x = choose_date(df, datetime.datetime(2019, 6, 18, 0, 0), 30, 0.5)  # получаем необходимую подвыборку\n",
    "x.drop(columns=['index', 'category', 'user_segment'], axis=1, inplace=True)\n",
    "\n",
    "strata_p = x.groupby('region').count() / x.count()[0]\n",
    "data_strat = x.join(strata_p, on='region', rsuffix='_probability')\n",
    "data_strat.drop(['user_id_probability'], axis=1, inplace=True)\n",
    "\n",
    "data_strat"
   ]
  },
  {
   "cell_type": "markdown",
   "metadata": {},
   "source": [
    "Проверяем средние"
   ]
  },
  {
   "cell_type": "code",
   "execution_count": 116,
   "metadata": {},
   "outputs": [
    {
     "data": {
      "text/plain": [
       "987.4865786393725"
      ]
     },
     "execution_count": 116,
     "metadata": {},
     "output_type": "execute_result"
    }
   ],
   "source": [
    "x.revenue_amount.mean()"
   ]
  },
  {
   "cell_type": "code",
   "execution_count": 117,
   "metadata": {},
   "outputs": [
    {
     "data": {
      "text/plain": [
       "987.4865786393725"
      ]
     },
     "execution_count": 117,
     "metadata": {},
     "output_type": "execute_result"
    }
   ],
   "source": [
    "strat_mean = (data_strat.groupby('region').mean().revenue_amount *\n",
    "              data_strat.groupby('region').mean().revenue_amount_probability).sum()\n",
    "strat_mean"
   ]
  },
  {
   "cell_type": "markdown",
   "metadata": {},
   "source": [
    "Смотрим на отклонение"
   ]
  },
  {
   "cell_type": "code",
   "execution_count": 118,
   "metadata": {},
   "outputs": [
    {
     "data": {
      "text/plain": [
       "6761.943172332728"
      ]
     },
     "execution_count": 118,
     "metadata": {},
     "output_type": "execute_result"
    }
   ],
   "source": [
    "(x.revenue_amount.var())**0.5"
   ]
  },
  {
   "cell_type": "code",
   "execution_count": 119,
   "metadata": {},
   "outputs": [
    {
     "data": {
      "text/plain": [
       "3385.333982740641"
      ]
     },
     "execution_count": 119,
     "metadata": {},
     "output_type": "execute_result"
    }
   ],
   "source": [
    "strat_std = ((data_strat.groupby('region').var().revenue_amount *\n",
    "              data_strat.groupby('region').mean().revenue_amount_probability).sum())**0.5\n",
    "strat_std"
   ]
  },
  {
   "cell_type": "code",
   "execution_count": 120,
   "metadata": {},
   "outputs": [
    {
     "name": "stdout",
     "output_type": "stream",
     "text": [
      "MDE = 0.030470470470470468\n"
     ]
    }
   ],
   "source": [
    "alpha = 0.01\n",
    "power = 0.8\n",
    "effects = np.linspace(0.5, 0.001, 1000)\n",
    "\n",
    "for result_effect in effects:\n",
    "    effect_size = (strat_mean / strat_std) * result_effect\n",
    "\n",
    "    sample_vol = tt_ind_solve_power(effect_size=effect_size,\n",
    "                                    alpha=alpha,\n",
    "                                    power=power,\n",
    "                                    nobs1=None,\n",
    "                                    ratio=1,\n",
    "                                    alternative='two-sided')\n",
    "    if sample_vol / data.shape[0] <= 1:\n",
    "        mde = result_effect\n",
    "\n",
    "print(f'MDE = {mde}')"
   ]
  },
  {
   "cell_type": "markdown",
   "metadata": {},
   "source": [
    "На регионах MDE меньше, чем на сегментах пользователей, но всё равно больше, чем 2.2% на CUPED-метрике.\n",
    "\n",
    "И рассмотрим по категориям"
   ]
  },
  {
   "cell_type": "code",
   "execution_count": 121,
   "metadata": {},
   "outputs": [
    {
     "data": {
      "text/html": [
       "<div>\n",
       "<style scoped>\n",
       "    .dataframe tbody tr th:only-of-type {\n",
       "        vertical-align: middle;\n",
       "    }\n",
       "\n",
       "    .dataframe tbody tr th {\n",
       "        vertical-align: top;\n",
       "    }\n",
       "\n",
       "    .dataframe thead th {\n",
       "        text-align: right;\n",
       "    }\n",
       "</style>\n",
       "<table border=\"1\" class=\"dataframe\">\n",
       "  <thead>\n",
       "    <tr style=\"text-align: right;\">\n",
       "      <th></th>\n",
       "      <th>user_id</th>\n",
       "      <th>category</th>\n",
       "      <th>revenue_amount</th>\n",
       "      <th>revenue_amount_probability</th>\n",
       "    </tr>\n",
       "  </thead>\n",
       "  <tbody>\n",
       "    <tr>\n",
       "      <th>0</th>\n",
       "      <td>7562887359106</td>\n",
       "      <td>1.449433e+19</td>\n",
       "      <td>105.0</td>\n",
       "      <td>0.003023</td>\n",
       "    </tr>\n",
       "    <tr>\n",
       "      <th>1</th>\n",
       "      <td>133237288205136</td>\n",
       "      <td>7.204754e+18</td>\n",
       "      <td>160.0</td>\n",
       "      <td>0.051792</td>\n",
       "    </tr>\n",
       "    <tr>\n",
       "      <th>2</th>\n",
       "      <td>209672890150349</td>\n",
       "      <td>3.586134e+18</td>\n",
       "      <td>397.0</td>\n",
       "      <td>0.006318</td>\n",
       "    </tr>\n",
       "    <tr>\n",
       "      <th>3</th>\n",
       "      <td>239972521062310</td>\n",
       "      <td>6.859028e+18</td>\n",
       "      <td>574.0</td>\n",
       "      <td>0.004770</td>\n",
       "    </tr>\n",
       "    <tr>\n",
       "      <th>4</th>\n",
       "      <td>277934167554935</td>\n",
       "      <td>8.645705e+19</td>\n",
       "      <td>4832.0</td>\n",
       "      <td>0.000133</td>\n",
       "    </tr>\n",
       "    <tr>\n",
       "      <th>...</th>\n",
       "      <td>...</td>\n",
       "      <td>...</td>\n",
       "      <td>...</td>\n",
       "      <td>...</td>\n",
       "    </tr>\n",
       "    <tr>\n",
       "      <th>315276</th>\n",
       "      <td>9223230347802593537</td>\n",
       "      <td>2.881902e+19</td>\n",
       "      <td>514.0</td>\n",
       "      <td>0.002648</td>\n",
       "    </tr>\n",
       "    <tr>\n",
       "      <th>315277</th>\n",
       "      <td>9223281527007418220</td>\n",
       "      <td>6.742558e+18</td>\n",
       "      <td>288.0</td>\n",
       "      <td>0.032114</td>\n",
       "    </tr>\n",
       "    <tr>\n",
       "      <th>315278</th>\n",
       "      <td>9223306345881997142</td>\n",
       "      <td>6.549026e+18</td>\n",
       "      <td>195.0</td>\n",
       "      <td>0.057127</td>\n",
       "    </tr>\n",
       "    <tr>\n",
       "      <th>315279</th>\n",
       "      <td>9223348554567144516</td>\n",
       "      <td>8.788507e+18</td>\n",
       "      <td>55.0</td>\n",
       "      <td>0.007631</td>\n",
       "    </tr>\n",
       "    <tr>\n",
       "      <th>315280</th>\n",
       "      <td>9223366785772814828</td>\n",
       "      <td>9.563309e+18</td>\n",
       "      <td>3336.0</td>\n",
       "      <td>0.005107</td>\n",
       "    </tr>\n",
       "  </tbody>\n",
       "</table>\n",
       "<p>315281 rows × 4 columns</p>\n",
       "</div>"
      ],
      "text/plain": [
       "                    user_id      category  revenue_amount  \\\n",
       "0             7562887359106  1.449433e+19           105.0   \n",
       "1           133237288205136  7.204754e+18           160.0   \n",
       "2           209672890150349  3.586134e+18           397.0   \n",
       "3           239972521062310  6.859028e+18           574.0   \n",
       "4           277934167554935  8.645705e+19          4832.0   \n",
       "...                     ...           ...             ...   \n",
       "315276  9223230347802593537  2.881902e+19           514.0   \n",
       "315277  9223281527007418220  6.742558e+18           288.0   \n",
       "315278  9223306345881997142  6.549026e+18           195.0   \n",
       "315279  9223348554567144516  8.788507e+18            55.0   \n",
       "315280  9223366785772814828  9.563309e+18          3336.0   \n",
       "\n",
       "        revenue_amount_probability  \n",
       "0                         0.003023  \n",
       "1                         0.051792  \n",
       "2                         0.006318  \n",
       "3                         0.004770  \n",
       "4                         0.000133  \n",
       "...                            ...  \n",
       "315276                    0.002648  \n",
       "315277                    0.032114  \n",
       "315278                    0.057127  \n",
       "315279                    0.007631  \n",
       "315280                    0.005107  \n",
       "\n",
       "[315281 rows x 4 columns]"
      ]
     },
     "execution_count": 121,
     "metadata": {},
     "output_type": "execute_result"
    }
   ],
   "source": [
    "x = choose_date(df, datetime.datetime(2019, 6, 18, 0, 0), 30, 0.5)  # получаем необходимую подвыборку\n",
    "x.drop(columns=['index', 'region', 'user_segment'], axis=1, inplace=True)\n",
    "\n",
    "strata_p = x.groupby('category').count() / x.count()[0]\n",
    "data_strat = x.join(strata_p, on='category', rsuffix='_probability')\n",
    "data_strat.drop(['user_id_probability'], axis=1, inplace=True)\n",
    "\n",
    "data_strat"
   ]
  },
  {
   "cell_type": "markdown",
   "metadata": {},
   "source": [
    "Смотрим средние"
   ]
  },
  {
   "cell_type": "code",
   "execution_count": 122,
   "metadata": {},
   "outputs": [
    {
     "data": {
      "text/plain": [
       "987.4865786393725"
      ]
     },
     "execution_count": 122,
     "metadata": {},
     "output_type": "execute_result"
    }
   ],
   "source": [
    "x.revenue_amount.mean()"
   ]
  },
  {
   "cell_type": "code",
   "execution_count": 123,
   "metadata": {},
   "outputs": [
    {
     "data": {
      "text/plain": [
       "987.4865786393725"
      ]
     },
     "execution_count": 123,
     "metadata": {},
     "output_type": "execute_result"
    }
   ],
   "source": [
    "strat_mean = (data_strat.groupby('category').mean().revenue_amount *\n",
    "              data_strat.groupby('category').mean().revenue_amount_probability).sum()\n",
    "strat_mean"
   ]
  },
  {
   "cell_type": "markdown",
   "metadata": {},
   "source": [
    "Отклонения"
   ]
  },
  {
   "cell_type": "code",
   "execution_count": 124,
   "metadata": {},
   "outputs": [
    {
     "data": {
      "text/plain": [
       "6761.943172332728"
      ]
     },
     "execution_count": 124,
     "metadata": {},
     "output_type": "execute_result"
    }
   ],
   "source": [
    "(x.revenue_amount.var())**0.5"
   ]
  },
  {
   "cell_type": "code",
   "execution_count": 125,
   "metadata": {},
   "outputs": [
    {
     "data": {
      "text/plain": [
       "3255.8185071954917"
      ]
     },
     "execution_count": 125,
     "metadata": {},
     "output_type": "execute_result"
    }
   ],
   "source": [
    "strat_std = ((data_strat.groupby('category').var().revenue_amount *\n",
    "              data_strat.groupby('category').mean().revenue_amount_probability).sum())**0.5\n",
    "strat_std"
   ]
  },
  {
   "cell_type": "code",
   "execution_count": 126,
   "metadata": {},
   "outputs": [
    {
     "name": "stdout",
     "output_type": "stream",
     "text": [
      "MDE = 0.028971971971971933\n"
     ]
    }
   ],
   "source": [
    "alpha = 0.01\n",
    "power = 0.8\n",
    "effects = np.linspace(0.5, 0.001, 1000)\n",
    "\n",
    "for result_effect in effects:\n",
    "    effect_size = (strat_mean / strat_std) * result_effect\n",
    "\n",
    "    sample_vol = tt_ind_solve_power(effect_size=effect_size,\n",
    "                                    alpha=alpha,\n",
    "                                    power=power,\n",
    "                                    nobs1=None,\n",
    "                                    ratio=1,\n",
    "                                    alternative='two-sided')\n",
    "    if sample_vol / data.shape[0] <= 1:\n",
    "        mde = result_effect\n",
    "\n",
    "print(f'MDE = {mde}')"
   ]
  },
  {
   "cell_type": "markdown",
   "metadata": {},
   "source": [
    "MDE вновь меньше, чем на предыдущих стратах, но глобально не меньше, чем 2.2%.\n",
    "\n",
    "Таким образом изнчально MDE был 5.7% при длительности 90 дней. С применением различных способов понижения дисперсии удалось достичь 2.2% за более короткий период, что уже более менее соответсвует действительности."
   ]
  }
 ],
 "metadata": {
  "kernelspec": {
   "display_name": "Python 3 (ipykernel)",
   "language": "python",
   "name": "python3"
  },
  "language_info": {
   "codemirror_mode": {
    "name": "ipython",
    "version": 3
   },
   "file_extension": ".py",
   "mimetype": "text/x-python",
   "name": "python",
   "nbconvert_exporter": "python",
   "pygments_lexer": "ipython3",
   "version": "3.8.10"
  }
 },
 "nbformat": 4,
 "nbformat_minor": 4
}
